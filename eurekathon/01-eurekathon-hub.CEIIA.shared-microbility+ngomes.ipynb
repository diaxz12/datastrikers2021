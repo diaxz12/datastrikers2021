{
 "cells": [
  {
   "cell_type": "code",
   "execution_count": 1,
   "id": "a39c2fcc",
   "metadata": {},
   "outputs": [
    {
     "name": "stdout",
     "output_type": "stream",
     "text": [
      "CPU times: user 1.2 s, sys: 632 ms, total: 1.83 s\n",
      "Wall time: 4.49 s\n"
     ]
    },
    {
     "data": {
      "text/html": [
       "<div>\n",
       "<style scoped>\n",
       "    .dataframe tbody tr th:only-of-type {\n",
       "        vertical-align: middle;\n",
       "    }\n",
       "\n",
       "    .dataframe tbody tr th {\n",
       "        vertical-align: top;\n",
       "    }\n",
       "\n",
       "    .dataframe thead th {\n",
       "        text-align: right;\n",
       "    }\n",
       "</style>\n",
       "<table border=\"1\" class=\"dataframe\">\n",
       "  <thead>\n",
       "    <tr style=\"text-align: right;\">\n",
       "      <th></th>\n",
       "      <th>vehicle_id</th>\n",
       "      <th>session_id</th>\n",
       "      <th>type</th>\n",
       "      <th>start_time</th>\n",
       "      <th>end_time</th>\n",
       "      <th>distance</th>\n",
       "      <th>saved_emissions</th>\n",
       "      <th>route</th>\n",
       "    </tr>\n",
       "  </thead>\n",
       "  <tbody>\n",
       "    <tr>\n",
       "      <th>0</th>\n",
       "      <td>256</td>\n",
       "      <td>5a6b9477-1457-4813-88cb-1a0bf88e2282</td>\n",
       "      <td>E-SCOOTER</td>\n",
       "      <td>1559070584000</td>\n",
       "      <td>1559070951000</td>\n",
       "      <td>1472.000000000</td>\n",
       "      <td>135.041280000</td>\n",
       "      <td>NULL</td>\n",
       "    </tr>\n",
       "    <tr>\n",
       "      <th>1</th>\n",
       "      <td>256</td>\n",
       "      <td>2a57ae36-e551-4073-b8f4-9ef7e1ede81f</td>\n",
       "      <td>E-SCOOTER</td>\n",
       "      <td>1560191671000</td>\n",
       "      <td>1560191872000</td>\n",
       "      <td>80.000000000</td>\n",
       "      <td>7.367200000</td>\n",
       "      <td>01040000004A0000000101000000000000A0BD6E21C000...</td>\n",
       "    </tr>\n",
       "    <tr>\n",
       "      <th>2</th>\n",
       "      <td>256</td>\n",
       "      <td>24b6a823-03eb-4270-b255-8e7940e6bd2b</td>\n",
       "      <td>E-SCOOTER</td>\n",
       "      <td>1559738931000</td>\n",
       "      <td>1559739528000</td>\n",
       "      <td>2441.000000000</td>\n",
       "      <td>224.791690000</td>\n",
       "      <td>0104000000490000000101000000000000800A6121C000...</td>\n",
       "    </tr>\n",
       "    <tr>\n",
       "      <th>3</th>\n",
       "      <td>256</td>\n",
       "      <td>0b85ebb4-f6b3-45b3-9f99-b89aaede71a0</td>\n",
       "      <td>E-SCOOTER</td>\n",
       "      <td>1559519594000</td>\n",
       "      <td>1559520691000</td>\n",
       "      <td>3867.000000000</td>\n",
       "      <td>354.758580000</td>\n",
       "      <td>0104000000730000000101000000000000A00B6121C000...</td>\n",
       "    </tr>\n",
       "    <tr>\n",
       "      <th>4</th>\n",
       "      <td>256</td>\n",
       "      <td>a6722d8d-7c8a-42db-9590-96ccf92cb34e</td>\n",
       "      <td>E-SCOOTER</td>\n",
       "      <td>1560097302000</td>\n",
       "      <td>1560097450000</td>\n",
       "      <td>91.000000000</td>\n",
       "      <td>8.380190000</td>\n",
       "      <td>01040000002A0000000101000000000000A0D27021C000...</td>\n",
       "    </tr>\n",
       "  </tbody>\n",
       "</table>\n",
       "</div>"
      ],
      "text/plain": [
       "   vehicle_id                            session_id       type     start_time  \\\n",
       "0         256  5a6b9477-1457-4813-88cb-1a0bf88e2282  E-SCOOTER  1559070584000   \n",
       "1         256  2a57ae36-e551-4073-b8f4-9ef7e1ede81f  E-SCOOTER  1560191671000   \n",
       "2         256  24b6a823-03eb-4270-b255-8e7940e6bd2b  E-SCOOTER  1559738931000   \n",
       "3         256  0b85ebb4-f6b3-45b3-9f99-b89aaede71a0  E-SCOOTER  1559519594000   \n",
       "4         256  a6722d8d-7c8a-42db-9590-96ccf92cb34e  E-SCOOTER  1560097302000   \n",
       "\n",
       "        end_time        distance saved_emissions  \\\n",
       "0  1559070951000  1472.000000000   135.041280000   \n",
       "1  1560191872000    80.000000000     7.367200000   \n",
       "2  1559739528000  2441.000000000   224.791690000   \n",
       "3  1559520691000  3867.000000000   354.758580000   \n",
       "4  1560097450000    91.000000000     8.380190000   \n",
       "\n",
       "                                               route  \n",
       "0                                               NULL  \n",
       "1  01040000004A0000000101000000000000A0BD6E21C000...  \n",
       "2  0104000000490000000101000000000000800A6121C000...  \n",
       "3  0104000000730000000101000000000000A00B6121C000...  \n",
       "4  01040000002A0000000101000000000000A0D27021C000...  "
      ]
     },
     "execution_count": 1,
     "metadata": {},
     "output_type": "execute_result"
    }
   ],
   "source": [
    "%%time\n",
    "from google.cloud import bigquery\n",
    "\n",
    "bqclient= bigquery.Client()\n",
    "\n",
    "query= \"\"\"\n",
    "  SELECT *\n",
    "  FROM eurekathon-hub.CEIIA.shared_micromobility\n",
    "\"\"\"\n",
    "\n",
    "df0= (\n",
    "  bqclient.query(query)\n",
    "          .result()\n",
    "          .to_dataframe()\n",
    ")\n",
    "\n",
    "df0.head()"
   ]
  },
  {
   "cell_type": "code",
   "execution_count": 2,
   "id": "0be3f70f",
   "metadata": {},
   "outputs": [
    {
     "data": {
      "text/plain": [
       "(158444, 8)"
      ]
     },
     "execution_count": 2,
     "metadata": {},
     "output_type": "execute_result"
    }
   ],
   "source": [
    "df0.shape"
   ]
  },
  {
   "cell_type": "markdown",
   "id": "b8541ece",
   "metadata": {
    "colab_type": "text",
    "id": "gN7G9GFmVrVY",
    "tags": []
   },
   "source": [
    "# EDA"
   ]
  },
  {
   "cell_type": "code",
   "execution_count": 3,
   "id": "2fc1d574",
   "metadata": {},
   "outputs": [],
   "source": [
    "import pandas as pd\n",
    "import numpy as np"
   ]
  },
  {
   "cell_type": "markdown",
   "id": "0a9404c7",
   "metadata": {},
   "source": [
    "## eurekathon-hub.CEIIA.shared_micromobility\n"
   ]
  },
  {
   "cell_type": "code",
   "execution_count": 4,
   "id": "8d0c6090",
   "metadata": {},
   "outputs": [],
   "source": [
    "df= df0.copy()"
   ]
  },
  {
   "cell_type": "code",
   "execution_count": 5,
   "id": "3a75dc4c",
   "metadata": {},
   "outputs": [
    {
     "data": {
      "text/plain": [
       "0         vehicle_id\n",
       "1         session_id\n",
       "2               type\n",
       "3         start_time\n",
       "4           end_time\n",
       "5           distance\n",
       "6    saved_emissions\n",
       "7              route\n",
       "dtype: object"
      ]
     },
     "execution_count": 5,
     "metadata": {},
     "output_type": "execute_result"
    }
   ],
   "source": [
    "pd.Series(df.columns)"
   ]
  },
  {
   "cell_type": "code",
   "execution_count": 6,
   "id": "0e3a3525",
   "metadata": {},
   "outputs": [
    {
     "data": {
      "text/plain": [
       "vehicle_id          int64\n",
       "session_id         object\n",
       "type               object\n",
       "start_time         object\n",
       "end_time           object\n",
       "distance           object\n",
       "saved_emissions    object\n",
       "route              object\n",
       "dtype: object"
      ]
     },
     "execution_count": 6,
     "metadata": {},
     "output_type": "execute_result"
    }
   ],
   "source": [
    "df.dtypes"
   ]
  },
  {
   "cell_type": "markdown",
   "id": "a6584b99",
   "metadata": {},
   "source": [
    "FEATURE | DESCRIPTION | TYPE\n",
    "---:|--- |:---:\n",
    "vehicle_id: | identificação do veículo | integer 64\n",
    "session_id: | identificação da sessão | string\n",
    "type: | tipo de veículo | string\n",
    "start_time: | tempo do início do percurso (millisecond) | integer 64\n",
    "end_time: | tempo do fim do percurso (millisecond) | float 64\n",
    "distance: | distância percorrida (m) | float 64\n",
    "saved_emissions: | quantidade de CO$_2$ poupado (g)| float 64\n",
    "route: | dados geoespaciais | string"
   ]
  },
  {
   "cell_type": "code",
   "execution_count": 7,
   "id": "734a1a93",
   "metadata": {},
   "outputs": [
    {
     "name": "stdout",
     "output_type": "stream",
     "text": [
      "session_id\n",
      "0         5a6b9477-1457-4813-88cb-1a0bf88e2282\n",
      "1         2a57ae36-e551-4073-b8f4-9ef7e1ede81f\n",
      "2         24b6a823-03eb-4270-b255-8e7940e6bd2b\n",
      "3         0b85ebb4-f6b3-45b3-9f99-b89aaede71a0\n",
      "4         a6722d8d-7c8a-42db-9590-96ccf92cb34e\n",
      "                          ...                 \n",
      "108476    b546ff85-c774-4dd3-8e5f-778c7ed0213b\n",
      "108477    d66e8f89-c1f4-4ead-b5d3-cdb2255c7c9a\n",
      "108478    54644b93-648c-4b95-85ef-dd5c2c1e00c6\n",
      "108479    4383e5e7-4fcf-419c-99d8-4adb1cee0431\n",
      "108480    da6c04a6-40fd-4154-b7a4-667996acd842\n",
      "Length: 108481, dtype: object\n",
      "\n",
      "type\n",
      "0    E-SCOOTER\n",
      "1      SCOOTER\n",
      "2         BIKE\n",
      "dtype: object\n",
      "\n",
      "start_time\n",
      "0         1559070584000\n",
      "1         1560191671000\n",
      "2         1559738931000\n",
      "3         1559519594000\n",
      "4         1560097302000\n",
      "              ...      \n",
      "107171    1576657538000\n",
      "107172    1576659615000\n",
      "107173    1577783030000\n",
      "107174    1578574271000\n",
      "107175    1577600150000\n",
      "Length: 107176, dtype: object\n",
      "\n",
      "end_time\n",
      "0         1559070951000\n",
      "1         1560191872000\n",
      "2         1559739528000\n",
      "3         1559520691000\n",
      "4         1560097450000\n",
      "              ...      \n",
      "107029    1576657563000\n",
      "107030    1576659642000\n",
      "107031    1577783090000\n",
      "107032    1578574391000\n",
      "107033    1577600630000\n",
      "Length: 107034, dtype: object\n",
      "\n",
      "distance\n",
      "0        1472.000000000\n",
      "1          80.000000000\n",
      "2        2441.000000000\n",
      "3        3867.000000000\n",
      "4          91.000000000\n",
      "              ...      \n",
      "29916       0.156040000\n",
      "29917       0.461370000\n",
      "29918       0.292600000\n",
      "29919       3.821710000\n",
      "29920      52.832400000\n",
      "Length: 29921, dtype: object\n",
      "\n",
      "saved_emissions\n",
      "0        135.041280000\n",
      "1          7.367200000\n",
      "2        224.791690000\n",
      "3        354.758580000\n",
      "4          8.380190000\n",
      "             ...      \n",
      "46220      0.258000000\n",
      "46221      0.044170000\n",
      "46222      0.026860000\n",
      "46223      0.350870000\n",
      "46224      4.850540000\n",
      "Length: 46225, dtype: object\n",
      "\n",
      "route\n",
      "0                                                      NULL\n",
      "1         01040000004A0000000101000000000000A0BD6E21C000...\n",
      "2         0104000000490000000101000000000000800A6121C000...\n",
      "3         0104000000730000000101000000000000A00B6121C000...\n",
      "4         01040000002A0000000101000000000000A0D27021C000...\n",
      "                                ...                        \n",
      "106562    0104000000020000000101000000000000E0D09D22C000...\n",
      "106563    0104000000020000000101000000000000E0CB9D22C000...\n",
      "106564    010400000005000000010100000000000060CF9D22C000...\n",
      "106565    01040000000E0000000101000000000000C0BB5422C000...\n",
      "106566    01040000001E000000010100000000000040FD4622C000...\n",
      "Length: 106567, dtype: object\n",
      "\n"
     ]
    }
   ],
   "source": [
    "for var in df.columns[1:]:\n",
    "  print(var)\n",
    "  print(pd.Series(pd.unique(df[var])))\n",
    "  print()"
   ]
  },
  {
   "cell_type": "code",
   "execution_count": 10,
   "id": "1b1d9ffc-b434-4e13-a4b4-6bea93c32a67",
   "metadata": {
    "tags": []
   },
   "outputs": [
    {
     "data": {
      "text/plain": [
       "0"
      ]
     },
     "execution_count": 10,
     "metadata": {},
     "output_type": "execute_result"
    }
   ],
   "source": [
    "sum(df.start_time.isnull())"
   ]
  },
  {
   "cell_type": "code",
   "execution_count": 16,
   "id": "ca3e0316-22d7-4c0f-85ee-c4a41d086db2",
   "metadata": {},
   "outputs": [
    {
     "data": {
      "text/plain": [
       "0"
      ]
     },
     "execution_count": 16,
     "metadata": {},
     "output_type": "execute_result"
    }
   ],
   "source": [
    "sum(df.end_time.isnull())"
   ]
  },
  {
   "cell_type": "code",
   "execution_count": 12,
   "id": "c3ba0206-72dd-430f-b6b9-1280b984fc46",
   "metadata": {
    "tags": []
   },
   "outputs": [
    {
     "data": {
      "text/plain": [
       "'1.3.4'"
      ]
     },
     "execution_count": 12,
     "metadata": {},
     "output_type": "execute_result"
    }
   ],
   "source": [
    "pd.__version__"
   ]
  },
  {
   "cell_type": "code",
   "execution_count": 15,
   "id": "6a5dc945-2ec8-44eb-a28a-3c65d47604f8",
   "metadata": {},
   "outputs": [
    {
     "data": {
      "text/plain": [
       "Timestamp('2019-05-28 19:09:44')"
      ]
     },
     "execution_count": 15,
     "metadata": {},
     "output_type": "execute_result"
    }
   ],
   "source": [
    "pd.to_datetime(df['start_time'][0], unit='ms')"
   ]
  },
  {
   "cell_type": "code",
   "execution_count": 13,
   "id": "54a25bf7",
   "metadata": {},
   "outputs": [
    {
     "ename": "ValueError",
     "evalue": "non convertible value NULL with the unit 'ms'",
     "output_type": "error",
     "traceback": [
      "\u001b[0;31m---------------------------------------------------------------------------\u001b[0m",
      "\u001b[0;31mValueError\u001b[0m                                Traceback (most recent call last)",
      "\u001b[0;32m/opt/conda/lib/python3.7/site-packages/pandas/_libs/tslib.pyx\u001b[0m in \u001b[0;36mpandas._libs.tslib.array_with_unit_to_datetime\u001b[0;34m()\u001b[0m\n",
      "\u001b[0;31mValueError\u001b[0m: could not convert string to float: 'NULL'",
      "\nDuring handling of the above exception, another exception occurred:\n",
      "\u001b[0;31mValueError\u001b[0m                                Traceback (most recent call last)",
      "\u001b[0;32m/tmp/ipykernel_19882/1956840691.py\u001b[0m in \u001b[0;36m<module>\u001b[0;34m\u001b[0m\n\u001b[1;32m      2\u001b[0m \u001b[0;34m\u001b[0m\u001b[0m\n\u001b[1;32m      3\u001b[0m \u001b[0mdf\u001b[0m\u001b[0;34m[\u001b[0m\u001b[0;34m'start_time'\u001b[0m\u001b[0;34m]\u001b[0m\u001b[0;34m=\u001b[0m \u001b[0mpd\u001b[0m\u001b[0;34m.\u001b[0m\u001b[0mto_datetime\u001b[0m\u001b[0;34m(\u001b[0m\u001b[0mdf\u001b[0m\u001b[0;34m[\u001b[0m\u001b[0;34m'start_time'\u001b[0m\u001b[0;34m]\u001b[0m\u001b[0;34m,\u001b[0m \u001b[0munit\u001b[0m\u001b[0;34m=\u001b[0m \u001b[0;34m'ms'\u001b[0m\u001b[0;34m)\u001b[0m\u001b[0;34m\u001b[0m\u001b[0;34m\u001b[0m\u001b[0m\n\u001b[0;32m----> 4\u001b[0;31m \u001b[0mdf\u001b[0m\u001b[0;34m[\u001b[0m\u001b[0;34m'end_time'\u001b[0m\u001b[0;34m]\u001b[0m\u001b[0;34m=\u001b[0m \u001b[0mpd\u001b[0m\u001b[0;34m.\u001b[0m\u001b[0mto_datetime\u001b[0m\u001b[0;34m(\u001b[0m\u001b[0mdf\u001b[0m\u001b[0;34m[\u001b[0m\u001b[0;34m'end_time'\u001b[0m\u001b[0;34m]\u001b[0m\u001b[0;34m,\u001b[0m \u001b[0munit\u001b[0m\u001b[0;34m=\u001b[0m \u001b[0;34m'ms'\u001b[0m\u001b[0;34m)\u001b[0m\u001b[0;34m\u001b[0m\u001b[0;34m\u001b[0m\u001b[0m\n\u001b[0m",
      "\u001b[0;32m/opt/conda/lib/python3.7/site-packages/pandas/core/tools/datetimes.py\u001b[0m in \u001b[0;36mto_datetime\u001b[0;34m(arg, errors, dayfirst, yearfirst, utc, format, exact, unit, infer_datetime_format, origin, cache)\u001b[0m\n\u001b[1;32m    885\u001b[0m             \u001b[0mresult\u001b[0m \u001b[0;34m=\u001b[0m \u001b[0marg\u001b[0m\u001b[0;34m.\u001b[0m\u001b[0mmap\u001b[0m\u001b[0;34m(\u001b[0m\u001b[0mcache_array\u001b[0m\u001b[0;34m)\u001b[0m\u001b[0;34m\u001b[0m\u001b[0;34m\u001b[0m\u001b[0m\n\u001b[1;32m    886\u001b[0m         \u001b[0;32melse\u001b[0m\u001b[0;34m:\u001b[0m\u001b[0;34m\u001b[0m\u001b[0;34m\u001b[0m\u001b[0m\n\u001b[0;32m--> 887\u001b[0;31m             \u001b[0mvalues\u001b[0m \u001b[0;34m=\u001b[0m \u001b[0mconvert_listlike\u001b[0m\u001b[0;34m(\u001b[0m\u001b[0marg\u001b[0m\u001b[0;34m.\u001b[0m\u001b[0m_values\u001b[0m\u001b[0;34m,\u001b[0m \u001b[0mformat\u001b[0m\u001b[0;34m)\u001b[0m\u001b[0;34m\u001b[0m\u001b[0;34m\u001b[0m\u001b[0m\n\u001b[0m\u001b[1;32m    888\u001b[0m             \u001b[0mresult\u001b[0m \u001b[0;34m=\u001b[0m \u001b[0marg\u001b[0m\u001b[0;34m.\u001b[0m\u001b[0m_constructor\u001b[0m\u001b[0;34m(\u001b[0m\u001b[0mvalues\u001b[0m\u001b[0;34m,\u001b[0m \u001b[0mindex\u001b[0m\u001b[0;34m=\u001b[0m\u001b[0marg\u001b[0m\u001b[0;34m.\u001b[0m\u001b[0mindex\u001b[0m\u001b[0;34m,\u001b[0m \u001b[0mname\u001b[0m\u001b[0;34m=\u001b[0m\u001b[0marg\u001b[0m\u001b[0;34m.\u001b[0m\u001b[0mname\u001b[0m\u001b[0;34m)\u001b[0m\u001b[0;34m\u001b[0m\u001b[0;34m\u001b[0m\u001b[0m\n\u001b[1;32m    889\u001b[0m     \u001b[0;32melif\u001b[0m \u001b[0misinstance\u001b[0m\u001b[0;34m(\u001b[0m\u001b[0marg\u001b[0m\u001b[0;34m,\u001b[0m \u001b[0;34m(\u001b[0m\u001b[0mABCDataFrame\u001b[0m\u001b[0;34m,\u001b[0m \u001b[0mabc\u001b[0m\u001b[0;34m.\u001b[0m\u001b[0mMutableMapping\u001b[0m\u001b[0;34m)\u001b[0m\u001b[0;34m)\u001b[0m\u001b[0;34m:\u001b[0m\u001b[0;34m\u001b[0m\u001b[0;34m\u001b[0m\u001b[0m\n",
      "\u001b[0;32m/opt/conda/lib/python3.7/site-packages/pandas/core/tools/datetimes.py\u001b[0m in \u001b[0;36m_convert_listlike_datetimes\u001b[0;34m(arg, format, name, tz, unit, errors, infer_datetime_format, dayfirst, yearfirst, exact)\u001b[0m\n\u001b[1;32m    354\u001b[0m         \u001b[0;32mif\u001b[0m \u001b[0mformat\u001b[0m \u001b[0;32mis\u001b[0m \u001b[0;32mnot\u001b[0m \u001b[0;32mNone\u001b[0m\u001b[0;34m:\u001b[0m\u001b[0;34m\u001b[0m\u001b[0;34m\u001b[0m\u001b[0m\n\u001b[1;32m    355\u001b[0m             \u001b[0;32mraise\u001b[0m \u001b[0mValueError\u001b[0m\u001b[0;34m(\u001b[0m\u001b[0;34m\"cannot specify both format and unit\"\u001b[0m\u001b[0;34m)\u001b[0m\u001b[0;34m\u001b[0m\u001b[0;34m\u001b[0m\u001b[0m\n\u001b[0;32m--> 356\u001b[0;31m         \u001b[0;32mreturn\u001b[0m \u001b[0m_to_datetime_with_unit\u001b[0m\u001b[0;34m(\u001b[0m\u001b[0marg\u001b[0m\u001b[0;34m,\u001b[0m \u001b[0munit\u001b[0m\u001b[0;34m,\u001b[0m \u001b[0mname\u001b[0m\u001b[0;34m,\u001b[0m \u001b[0mtz\u001b[0m\u001b[0;34m,\u001b[0m \u001b[0merrors\u001b[0m\u001b[0;34m)\u001b[0m\u001b[0;34m\u001b[0m\u001b[0;34m\u001b[0m\u001b[0m\n\u001b[0m\u001b[1;32m    357\u001b[0m     \u001b[0;32melif\u001b[0m \u001b[0mgetattr\u001b[0m\u001b[0;34m(\u001b[0m\u001b[0marg\u001b[0m\u001b[0;34m,\u001b[0m \u001b[0;34m\"ndim\"\u001b[0m\u001b[0;34m,\u001b[0m \u001b[0;36m1\u001b[0m\u001b[0;34m)\u001b[0m \u001b[0;34m>\u001b[0m \u001b[0;36m1\u001b[0m\u001b[0;34m:\u001b[0m\u001b[0;34m\u001b[0m\u001b[0;34m\u001b[0m\u001b[0m\n\u001b[1;32m    358\u001b[0m         raise TypeError(\n",
      "\u001b[0;32m/opt/conda/lib/python3.7/site-packages/pandas/core/tools/datetimes.py\u001b[0m in \u001b[0;36m_to_datetime_with_unit\u001b[0;34m(arg, unit, name, tz, errors)\u001b[0m\n\u001b[1;32m    526\u001b[0m         \u001b[0mtz_parsed\u001b[0m \u001b[0;34m=\u001b[0m \u001b[0;32mNone\u001b[0m\u001b[0;34m\u001b[0m\u001b[0;34m\u001b[0m\u001b[0m\n\u001b[1;32m    527\u001b[0m     \u001b[0;32melse\u001b[0m\u001b[0;34m:\u001b[0m\u001b[0;34m\u001b[0m\u001b[0;34m\u001b[0m\u001b[0m\n\u001b[0;32m--> 528\u001b[0;31m         \u001b[0marr\u001b[0m\u001b[0;34m,\u001b[0m \u001b[0mtz_parsed\u001b[0m \u001b[0;34m=\u001b[0m \u001b[0mtslib\u001b[0m\u001b[0;34m.\u001b[0m\u001b[0marray_with_unit_to_datetime\u001b[0m\u001b[0;34m(\u001b[0m\u001b[0marg\u001b[0m\u001b[0;34m,\u001b[0m \u001b[0munit\u001b[0m\u001b[0;34m,\u001b[0m \u001b[0merrors\u001b[0m\u001b[0;34m=\u001b[0m\u001b[0merrors\u001b[0m\u001b[0;34m)\u001b[0m\u001b[0;34m\u001b[0m\u001b[0;34m\u001b[0m\u001b[0m\n\u001b[0m\u001b[1;32m    529\u001b[0m \u001b[0;34m\u001b[0m\u001b[0m\n\u001b[1;32m    530\u001b[0m     \u001b[0;32mif\u001b[0m \u001b[0merrors\u001b[0m \u001b[0;34m==\u001b[0m \u001b[0;34m\"ignore\"\u001b[0m\u001b[0;34m:\u001b[0m\u001b[0;34m\u001b[0m\u001b[0;34m\u001b[0m\u001b[0m\n",
      "\u001b[0;32m/opt/conda/lib/python3.7/site-packages/pandas/_libs/tslib.pyx\u001b[0m in \u001b[0;36mpandas._libs.tslib.array_with_unit_to_datetime\u001b[0;34m()\u001b[0m\n",
      "\u001b[0;31mValueError\u001b[0m: non convertible value NULL with the unit 'ms'"
     ]
    }
   ],
   "source": [
    "import time\n",
    "\n",
    "df['start_time']= pd.to_datetime(df['start_time'], unit= 'ms')\n",
    "df['end_time']= pd.to_datetime(df['end_time'], unit= 'ms')"
   ]
  },
  {
   "cell_type": "code",
   "execution_count": 21,
   "id": "5bccba01",
   "metadata": {},
   "outputs": [
    {
     "data": {
      "text/html": [
       "<div>\n",
       "<style scoped>\n",
       "    .dataframe tbody tr th:only-of-type {\n",
       "        vertical-align: middle;\n",
       "    }\n",
       "\n",
       "    .dataframe tbody tr th {\n",
       "        vertical-align: top;\n",
       "    }\n",
       "\n",
       "    .dataframe thead th {\n",
       "        text-align: right;\n",
       "    }\n",
       "</style>\n",
       "<table border=\"1\" class=\"dataframe\">\n",
       "  <thead>\n",
       "    <tr style=\"text-align: right;\">\n",
       "      <th></th>\n",
       "      <th>Unnamed: 0</th>\n",
       "      <th>vehicle_id</th>\n",
       "      <th>session_id</th>\n",
       "      <th>type</th>\n",
       "      <th>start_time</th>\n",
       "      <th>end_time</th>\n",
       "      <th>distance</th>\n",
       "      <th>saved_emissions</th>\n",
       "      <th>route</th>\n",
       "    </tr>\n",
       "  </thead>\n",
       "  <tbody>\n",
       "    <tr>\n",
       "      <th>0</th>\n",
       "      <td>0</td>\n",
       "      <td>256</td>\n",
       "      <td>5a6b9477-1457-4813-88cb-1a0bf88e2282</td>\n",
       "      <td>E-SCOOTER</td>\n",
       "      <td>2019-05-28 19:09:44</td>\n",
       "      <td>2019-05-28 19:15:51</td>\n",
       "      <td>1472.0</td>\n",
       "      <td>135.04128</td>\n",
       "      <td>NaN</td>\n",
       "    </tr>\n",
       "    <tr>\n",
       "      <th>1</th>\n",
       "      <td>1</td>\n",
       "      <td>256</td>\n",
       "      <td>2a57ae36-e551-4073-b8f4-9ef7e1ede81f</td>\n",
       "      <td>E-SCOOTER</td>\n",
       "      <td>2019-06-10 18:34:31</td>\n",
       "      <td>2019-06-10 18:37:52</td>\n",
       "      <td>80.0</td>\n",
       "      <td>7.36720</td>\n",
       "      <td>01040000004A0000000101000000000000A0BD6E21C000...</td>\n",
       "    </tr>\n",
       "    <tr>\n",
       "      <th>2</th>\n",
       "      <td>2</td>\n",
       "      <td>256</td>\n",
       "      <td>24b6a823-03eb-4270-b255-8e7940e6bd2b</td>\n",
       "      <td>E-SCOOTER</td>\n",
       "      <td>2019-06-05 12:48:51</td>\n",
       "      <td>2019-06-05 12:58:48</td>\n",
       "      <td>2441.0</td>\n",
       "      <td>224.79169</td>\n",
       "      <td>0104000000490000000101000000000000800A6121C000...</td>\n",
       "    </tr>\n",
       "    <tr>\n",
       "      <th>3</th>\n",
       "      <td>3</td>\n",
       "      <td>256</td>\n",
       "      <td>0b85ebb4-f6b3-45b3-9f99-b89aaede71a0</td>\n",
       "      <td>E-SCOOTER</td>\n",
       "      <td>2019-06-02 23:53:14</td>\n",
       "      <td>2019-06-03 00:11:31</td>\n",
       "      <td>3867.0</td>\n",
       "      <td>354.75858</td>\n",
       "      <td>0104000000730000000101000000000000A00B6121C000...</td>\n",
       "    </tr>\n",
       "    <tr>\n",
       "      <th>4</th>\n",
       "      <td>4</td>\n",
       "      <td>256</td>\n",
       "      <td>a6722d8d-7c8a-42db-9590-96ccf92cb34e</td>\n",
       "      <td>E-SCOOTER</td>\n",
       "      <td>2019-06-09 16:21:42</td>\n",
       "      <td>2019-06-09 16:24:10</td>\n",
       "      <td>91.0</td>\n",
       "      <td>8.38019</td>\n",
       "      <td>01040000002A0000000101000000000000A0D27021C000...</td>\n",
       "    </tr>\n",
       "  </tbody>\n",
       "</table>\n",
       "</div>"
      ],
      "text/plain": [
       "   Unnamed: 0  vehicle_id                            session_id       type  \\\n",
       "0           0         256  5a6b9477-1457-4813-88cb-1a0bf88e2282  E-SCOOTER   \n",
       "1           1         256  2a57ae36-e551-4073-b8f4-9ef7e1ede81f  E-SCOOTER   \n",
       "2           2         256  24b6a823-03eb-4270-b255-8e7940e6bd2b  E-SCOOTER   \n",
       "3           3         256  0b85ebb4-f6b3-45b3-9f99-b89aaede71a0  E-SCOOTER   \n",
       "4           4         256  a6722d8d-7c8a-42db-9590-96ccf92cb34e  E-SCOOTER   \n",
       "\n",
       "           start_time            end_time  distance  saved_emissions  \\\n",
       "0 2019-05-28 19:09:44 2019-05-28 19:15:51    1472.0        135.04128   \n",
       "1 2019-06-10 18:34:31 2019-06-10 18:37:52      80.0          7.36720   \n",
       "2 2019-06-05 12:48:51 2019-06-05 12:58:48    2441.0        224.79169   \n",
       "3 2019-06-02 23:53:14 2019-06-03 00:11:31    3867.0        354.75858   \n",
       "4 2019-06-09 16:21:42 2019-06-09 16:24:10      91.0          8.38019   \n",
       "\n",
       "                                               route  \n",
       "0                                                NaN  \n",
       "1  01040000004A0000000101000000000000A0BD6E21C000...  \n",
       "2  0104000000490000000101000000000000800A6121C000...  \n",
       "3  0104000000730000000101000000000000A00B6121C000...  \n",
       "4  01040000002A0000000101000000000000A0D27021C000...  "
      ]
     },
     "execution_count": 21,
     "metadata": {},
     "output_type": "execute_result"
    }
   ],
   "source": [
    "df.head()"
   ]
  },
  {
   "cell_type": "code",
   "execution_count": 13,
   "id": "e4effa7a",
   "metadata": {},
   "outputs": [
    {
     "data": {
      "text/plain": [
       "'Tue, 28 May 2019 20:09:44 +0000'"
      ]
     },
     "execution_count": 13,
     "metadata": {},
     "output_type": "execute_result"
    }
   ],
   "source": [
    "time.strftime(\"%a, %d %b %Y %H:%M:%S +0000\", time.localtime(df.start_time[0]))"
   ]
  },
  {
   "cell_type": "code",
   "execution_count": 11,
   "id": "45744da0",
   "metadata": {},
   "outputs": [
    {
     "data": {
      "text/plain": [
       "'Tue, 28 May 2019 20:15:51 +0000'"
      ]
     },
     "execution_count": 11,
     "metadata": {},
     "output_type": "execute_result"
    }
   ],
   "source": [
    "time.strftime(\"%a, %d %b %Y %H:%M:%S +0000\", time.localtime(df.end_time[0]))"
   ]
  },
  {
   "cell_type": "code",
   "execution_count": 17,
   "id": "7f0fb42b",
   "metadata": {},
   "outputs": [],
   "source": [
    "from shapely import wkt"
   ]
  },
  {
   "cell_type": "code",
   "execution_count": 18,
   "id": "edafb123",
   "metadata": {},
   "outputs": [],
   "source": [
    "import geopandas as gpd"
   ]
  },
  {
   "cell_type": "code",
   "execution_count": 25,
   "id": "e2562d49",
   "metadata": {},
   "outputs": [
    {
     "data": {
      "text/html": [
       "<div>\n",
       "<style scoped>\n",
       "    .dataframe tbody tr th:only-of-type {\n",
       "        vertical-align: middle;\n",
       "    }\n",
       "\n",
       "    .dataframe tbody tr th {\n",
       "        vertical-align: top;\n",
       "    }\n",
       "\n",
       "    .dataframe thead th {\n",
       "        text-align: right;\n",
       "    }\n",
       "</style>\n",
       "<table border=\"1\" class=\"dataframe\">\n",
       "  <thead>\n",
       "    <tr style=\"text-align: right;\">\n",
       "      <th></th>\n",
       "      <th>geometry</th>\n",
       "      <th>address</th>\n",
       "    </tr>\n",
       "  </thead>\n",
       "  <tbody>\n",
       "    <tr>\n",
       "      <th>0</th>\n",
       "      <td>GEOMETRYCOLLECTION EMPTY</td>\n",
       "      <td>None</td>\n",
       "    </tr>\n",
       "  </tbody>\n",
       "</table>\n",
       "</div>"
      ],
      "text/plain": [
       "                   geometry address\n",
       "0  GEOMETRYCOLLECTION EMPTY    None"
      ]
     },
     "execution_count": 25,
     "metadata": {},
     "output_type": "execute_result"
    }
   ],
   "source": [
    "gpd.tools.geocode(df['route'][1])"
   ]
  },
  {
   "cell_type": "code",
   "execution_count": null,
   "id": "49d0ee6b",
   "metadata": {},
   "outputs": [],
   "source": []
  },
  {
   "cell_type": "code",
   "execution_count": null,
   "id": "21c70710",
   "metadata": {},
   "outputs": [],
   "source": []
  },
  {
   "cell_type": "code",
   "execution_count": null,
   "id": "62382320",
   "metadata": {},
   "outputs": [],
   "source": []
  },
  {
   "cell_type": "code",
   "execution_count": null,
   "id": "75e61de2",
   "metadata": {},
   "outputs": [],
   "source": []
  },
  {
   "cell_type": "code",
   "execution_count": 62,
   "id": "eeaf1659",
   "metadata": {},
   "outputs": [],
   "source": [
    "import matplotlib.pyplot as plt\n",
    "from matplotlib import rcParams\n",
    "\n",
    "rcParams.update({'figure.autolayout': True})\n",
    "# set dimensions for printing\n",
    "pd.set_option('display.max_rows', 100)\n",
    "pd.set_option('display.max_columns', 100)\n",
    "pd.set_option('display.width', 100)\n",
    "pd.set_option('display.max_colwidth', None)#-1)"
   ]
  }
 ],
 "metadata": {
  "environment": {
   "kernel": "conda-root-py",
   "name": "tf2-gpu.2-6.m84",
   "type": "gcloud",
   "uri": "gcr.io/deeplearning-platform-release/tf2-gpu.2-6:m84"
  },
  "kernelspec": {
   "display_name": "Python [conda env:root] *",
   "language": "python",
   "name": "conda-root-py"
  },
  "language_info": {
   "codemirror_mode": {
    "name": "ipython",
    "version": 3
   },
   "file_extension": ".py",
   "mimetype": "text/x-python",
   "name": "python",
   "nbconvert_exporter": "python",
   "pygments_lexer": "ipython3",
   "version": "3.7.12"
  }
 },
 "nbformat": 4,
 "nbformat_minor": 5
}
